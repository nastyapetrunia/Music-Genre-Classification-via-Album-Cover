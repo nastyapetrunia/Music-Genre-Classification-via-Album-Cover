{
 "cells": [
  {
   "cell_type": "code",
   "execution_count": 32,
   "id": "66cf1e06",
   "metadata": {},
   "outputs": [],
   "source": [
    "# !pip install beautifulsoup4\n",
    "# !pip install selenium\n",
    "# !pip install webdriver_manager"
   ]
  },
  {
   "cell_type": "code",
   "execution_count": 12,
   "id": "27239393",
   "metadata": {},
   "outputs": [],
   "source": [
    "import requests\n",
    "#from bs4 import BeautifulSoup\n",
    "from selenium import webdriver\n",
    "from selenium.webdriver.common.by import By\n",
    "from selenium.webdriver.support.ui import WebDriverWait\n",
    "from selenium.webdriver.support import expected_conditions as EC\n",
    "from selenium.webdriver.common.action_chains import ActionChains\n",
    "# from selenium.webdriver.common.keys import Keys\n",
    "from webdriver_manager.chrome import ChromeDriverManager\n",
    "from selenium.webdriver.support.ui import Select"
   ]
  },
  {
   "cell_type": "code",
   "execution_count": 13,
   "id": "9e3d1483",
   "metadata": {},
   "outputs": [
    {
     "name": "stderr",
     "output_type": "stream",
     "text": [
      "[WDM] - Downloading: 100%|██████████| 6.29M/6.29M [00:01<00:00, 5.26MB/s]\n",
      "C:\\Users\\Nastya\\AppData\\Local\\Temp\\ipykernel_16924\\2469949736.py:1: DeprecationWarning: executable_path has been deprecated, please pass in a Service object\n",
      "  driver = webdriver.Chrome(executable_path=ChromeDriverManager().install())\n"
     ]
    }
   ],
   "source": [
    "driver = webdriver.Chrome(executable_path=ChromeDriverManager().install())\n",
    "URL = \"https://www.allmusic.com/advanced-search?1666087655301\"\n",
    "driver.get(URL)"
   ]
  },
  {
   "cell_type": "code",
   "execution_count": 14,
   "id": "4219de30",
   "metadata": {},
   "outputs": [],
   "source": [
    "all_genres = [('rap', '//*[@id=\"MA0000002816\"]'), ('folk', '//*[@id=\"MA0000002592\"]'), ('hard rock', '//*[@id=\"MA0000002636\"]'),\n",
    "             ('disco', '//*[@id=\"MA0000002552\"]'), ('electronic', '//*[@id=\"MA0000002572\"]')]"
   ]
  },
  {
   "cell_type": "code",
   "execution_count": 18,
   "id": "719ff209",
   "metadata": {},
   "outputs": [],
   "source": [
    "def get_img_urls(genres, limit):\n",
    "    \n",
    "    img_urls = [[], [], [], [], []]\n",
    "    \n",
    "    select = Select(driver.find_element(By.CLASS_NAME, 'start-year'))\n",
    "    select.select_by_value('2000')\n",
    "    \n",
    "    input_filter_genres = driver.find_element(By.XPATH, \"//input[@placeholder='type to filter genres & styles by name']\")\n",
    "    \n",
    "    clear_input_filter_genres = driver.find_element(By.CLASS_NAME, 'clear')\n",
    "\n",
    "    i = 0\n",
    "    for genre in genres:\n",
    "        \n",
    "        input_filter_genres.send_keys(genre[0])\n",
    "        checkbox = driver.find_element(By.XPATH, genre[1])\n",
    "        actions = ActionChains(driver)\n",
    "        actions.move_to_element(checkbox).perform()\n",
    "        checkbox.click()\n",
    "        driver.implicitly_wait(5)\n",
    "        \n",
    "        while (len(img_urls[i]) < limit):\n",
    "            \n",
    "            tbody = WebDriverWait(driver, 10).until(EC.presence_of_element_located((By.TAG_NAME, \"tbody\")))\n",
    "#             tbody = driver.find_element(By.TAG_NAME, \"tbody\")\n",
    "            tbody_elems = tbody.find_elements(By.TAG_NAME, \"img\")\n",
    "            for elem in tbody_elems:\n",
    "                 img_urls[i].append(elem.get_attribute('src'))\n",
    "                    \n",
    "            try:\n",
    "                next_page = driver.find_element(By.XPATH, '//a[contains(text(), \"Next »\")]')\n",
    "            except:\n",
    "                print('Scrapped ' + str(len(img_urls[i])) + ' urls for ' + genre[0] +'. No more available pages.')\n",
    "                break\n",
    "            else:\n",
    "                driver.implicitly_wait(5)\n",
    "                actions = ActionChains(driver)\n",
    "                actions.move_to_element(next_page).perform()\n",
    "                try:\n",
    "                    WebDriverWait(driver, 20).until(EC.element_to_be_clickable((By.XPATH, \n",
    "                                                                            '//a[contains(text(), \"Next »\")]'))).click()\n",
    "                except:\n",
    "                    actions.move_to_element(next_page).perform()\n",
    "                    WebDriverWait(driver, 20).until(EC.element_to_be_clickable((By.XPATH, \n",
    "                                                                            '//a[contains(text(), \"Next »\")]'))).click()                    \n",
    "\n",
    "        print('Scrapped ' + str(len(img_urls[i])) + ' urls for ' + genre[0] + '.')\n",
    "        i += 1\n",
    "        checkbox.click()\n",
    "        clear_input_filter_genres.click()\n",
    "        \n",
    "    return img_urls"
   ]
  },
  {
   "cell_type": "code",
   "execution_count": 21,
   "id": "b44bb937",
   "metadata": {},
   "outputs": [
    {
     "name": "stdout",
     "output_type": "stream",
     "text": [
      "Scrapped 2039 urls for rap.\n",
      "Scrapped 2039 urls for folk.\n",
      "Scrapped 2038 urls for hard rock.\n",
      "Scrapped 2039 urls for disco.\n",
      "Scrapped 2000 urls for electronic.\n"
     ]
    }
   ],
   "source": [
    "urls = get_img_urls(all_genres, 2000)"
   ]
  },
  {
   "cell_type": "code",
   "execution_count": 22,
   "id": "d1e98672",
   "metadata": {},
   "outputs": [],
   "source": [
    "driver.quit()"
   ]
  },
  {
   "cell_type": "code",
   "execution_count": 44,
   "id": "a849e6c9",
   "metadata": {},
   "outputs": [
    {
     "data": {
      "text/plain": [
       "2039"
      ]
     },
     "execution_count": 44,
     "metadata": {},
     "output_type": "execute_result"
    }
   ],
   "source": [
    "len(urls[1])"
   ]
  },
  {
   "cell_type": "code",
   "execution_count": 47,
   "id": "cf16d99b",
   "metadata": {},
   "outputs": [],
   "source": [
    "def save_imgs(urls, g, genre):\n",
    "    i = 0\n",
    "    empty_imgs = 0\n",
    "    for url in urls[g]:\n",
    "        if url == 'https://cdn-gce.allmusic.com/images/no_image/album_300x300.png':\n",
    "            empty_imgs += 1\n",
    "        else:\n",
    "            img_data = requests.get(url).content\n",
    "            with open(path_to_images_folder + genre + '\\\\image' + str(i) + '.jpg', 'wb') as handler:\n",
    "                handler.write(img_data)\n",
    "            i += 1\n",
    "    print(str(empty_imgs) + ' empty images found')"
   ]
  },
  {
   "cell_type": "code",
   "execution_count": 49,
   "id": "244f9b60",
   "metadata": {},
   "outputs": [
    {
     "name": "stdout",
     "output_type": "stream",
     "text": [
      "105 empty images found\n"
     ]
    }
   ],
   "source": [
    "save_imgs(urls, 0, 'rap')"
   ]
  },
  {
   "cell_type": "code",
   "execution_count": 41,
   "id": "37a449ae",
   "metadata": {},
   "outputs": [],
   "source": [
    "e_i = save_imgs(urls, 1, 'folk')"
   ]
  },
  {
   "cell_type": "code",
   "execution_count": 43,
   "id": "e6a0b17c",
   "metadata": {},
   "outputs": [
    {
     "name": "stdout",
     "output_type": "stream",
     "text": [
      "139 empty images found\n"
     ]
    }
   ],
   "source": [
    "print(str(e_i) + ' empty images found')"
   ]
  },
  {
   "cell_type": "code",
   "execution_count": 45,
   "id": "0611f125",
   "metadata": {},
   "outputs": [
    {
     "data": {
      "text/plain": [
       "127"
      ]
     },
     "execution_count": 45,
     "metadata": {},
     "output_type": "execute_result"
    }
   ],
   "source": [
    "save_imgs(urls, 2, 'rock')"
   ]
  },
  {
   "cell_type": "code",
   "execution_count": 46,
   "id": "1a1ca8e2",
   "metadata": {},
   "outputs": [
    {
     "data": {
      "text/plain": [
       "256"
      ]
     },
     "execution_count": 46,
     "metadata": {},
     "output_type": "execute_result"
    }
   ],
   "source": [
    "save_imgs(urls, 3, 'disco')"
   ]
  },
  {
   "cell_type": "code",
   "execution_count": 48,
   "id": "70d8c2dd",
   "metadata": {},
   "outputs": [
    {
     "name": "stdout",
     "output_type": "stream",
     "text": [
      "136 empty images found\n"
     ]
    }
   ],
   "source": [
    "save_imgs(urls, 4, 'electro')"
   ]
  },
  {
   "cell_type": "code",
   "execution_count": null,
   "id": "ae8dc2a0",
   "metadata": {},
   "outputs": [],
   "source": []
  }
 ],
 "metadata": {
  "kernelspec": {
   "display_name": "Python 3 (ipykernel)",
   "language": "python",
   "name": "python3"
  },
  "language_info": {
   "codemirror_mode": {
    "name": "ipython",
    "version": 3
   },
   "file_extension": ".py",
   "mimetype": "text/x-python",
   "name": "python",
   "nbconvert_exporter": "python",
   "pygments_lexer": "ipython3",
   "version": "3.9.12"
  }
 },
 "nbformat": 4,
 "nbformat_minor": 5
}
